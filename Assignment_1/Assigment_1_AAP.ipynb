{
 "cells": [
  {
   "cell_type": "markdown",
   "metadata": {},
   "source": [
    "# ASSIGNMENT 1: CREATING OBJECTS\n",
    "\n",
    "### Author: Andrea Álvarez Pérez\n",
    "\n",
    "There are three tab-delimited data files:\n",
    "\n",
    "1. seed_stock_data.tsv: contains information about seeds in your genebank \n",
    "2. gene_information.tsv: contains information about genes \n",
    "3. cross_data.tsv: contains information about the crosses you have made\n",
    "\n",
    "Each file begins with a heading line, followed by lines of data.\n",
    "\n",
    "## Problem 1: \n",
    "\n",
    "\"Simulate\" planting 7 grams of seeds from each of the records in the seed stock genebank. Then you should update the genebank information to show the new quantity of seeds that remain after a planting. The new state of the genebank\n",
    "should be printed to a new file, using exactly the same format as the original file seed_stock_data.tsv.\n",
    "\n",
    "If the amount of seed is reduced to zero or less than zero, then a friendly warning message should appear on the screen. The amount of seed left in the gene bank is, of course, not LESS than zero."
   ]
  },
  {
   "cell_type": "code",
   "execution_count": 4,
   "metadata": {},
   "outputs": [
    {
     "name": "stdout",
     "output_type": "stream",
     "text": [
      "35\n",
      "36\n",
      "38\n",
      "WARNING: we have run out of Seed Stock A51.\n",
      "34\n",
      "WARNING: we have run out of Seed Stock B52.\n",
      "35\n"
     ]
    },
    {
     "data": {
      "text/plain": [
       "[0, 1, 2, 3, 4]"
      ]
     },
     "execution_count": 4,
     "metadata": {},
     "output_type": "execute_result"
    }
   ],
   "source": [
    "# create objects\n",
    "\n",
    "class SeedStock\n",
    "  \n",
    "  attr_accessor :seed_stockID\n",
    "  attr_accessor :geneID\n",
    "  attr_accessor :last_planted\n",
    "  attr_accessor :storage\n",
    "  attr_accessor :grams_rem\n",
    "    \n",
    "  def initialize (params = {}) # default values\n",
    "\n",
    "    @seed_stockID = params.fetch(:seed_stockID, \"000000\")\n",
    "    @geneID = params.fetch(:geneID, \"unknown\")\n",
    "    @last_planted = params.fetch(:last_planted, \"unknown\")\n",
    "    @storage = params.fetch(:storage, \"unknown\")\n",
    "    @grams_rem = params.fetch(:grams_rem, \"0\")\n",
    "    \n",
    "  end\n",
    "\n",
    "  # write the header in output file. If the file exists, rewrite it\n",
    "  File.write(\"new_stock_file.tsv\", [\"Seed_Stock\", \"Mutant_Gene_ID\", \"Last_Planted\", \"Storage\", \"Grams_Remaining\"].join(\"\\t\"), mode: \"w\") \n",
    "   \n",
    "  def seed_grams_remain ()\n",
    "    newvalue = grams_rem.to_i - 7 # convert string into integer and plant 7 seeds\n",
    "    if newvalue <= 0\n",
    "      # set value into 0 to avoid having negative numbers\n",
    "      grams_rem = 0\n",
    "      puts \"WARNING: we have run out of Seed Stock #{seed_stockID}.\"     \n",
    "    else\n",
    "      # set newvalue\n",
    "      grams_rem = newvalue\n",
    "    end\n",
    "    # write results in new_stock_file\n",
    "    File.open(\"new_stock_file.tsv\", \"a\") { |f| f.write(\"\\r\\n#{seed_stockID}\\t#{geneID}\\t#{last_planted}\\t#{storage}\\t#{grams_rem}\\t\") }\n",
    "  end\n",
    "  \n",
    "end\n",
    "\n",
    "\n",
    "# =======================================================================================================\n",
    "\n",
    "# Open files and fill class data\n",
    "\n",
    "require \"csv\"\n",
    "\n",
    "# If you use the open method\n",
    "tsv_seed = CSV.read(\"seed_stock_data.tsv\", col_sep: \"\\t\")[1 .. -1] # delete the header\n",
    "\n",
    "for i in [0,1,2,3,4]\n",
    "  p2 = SeedStock.new(\n",
    "    :seed_stockID => tsv_seed[i][0],      \n",
    "    :geneID => tsv_seed[i][1],                   \n",
    "    :last_planted => tsv_seed[i][2], \n",
    "    :storage => tsv_seed[i][3],\n",
    "    :grams_rem => tsv_seed[i][4]\n",
    "    )\n",
    "  puts p2.seed_grams_remain()\n",
    "end\n",
    "\n"
   ]
  },
  {
   "cell_type": "code",
   "execution_count": null,
   "metadata": {},
   "outputs": [],
   "source": [
    "class Gene < SeedStock\n",
    "  \n",
    "  # inherited geneID from class SeedStock\n",
    "  attr_accessor :gene_name\n",
    "  attr_accessor :mutant_phenotype\n",
    "  \n",
    "  def initialize (params = {}) # default values\n",
    "    \n",
    "    super(params)\n",
    "\n",
    "    @gene_name = params.fetch(:gene_name, \"unknown\")\n",
    "    @mutant_phenotype = params.fetch(:mutant_phenotype, \"unknown\")\n",
    "       \n",
    "  end\n",
    "  \n",
    "end\n",
    "\n",
    "\n",
    "class HybridCross < SeedStock\n",
    "  \n",
    "  attr_accessor :parent1\n",
    "  attr_accessor :parent2\n",
    "  attr_accessor :F2_wild\n",
    "  attr_accessor :F2_P1\n",
    "  attr_accessor :F2_P2\n",
    "  attr_accessor :F2_P1P2\n",
    "  \n",
    "  def initialize (params = {}) # default values\n",
    "    \n",
    "    super(params)\n",
    "\n",
    "    @parent1 = params.fetch(:parent1, \"unknown\")\n",
    "    @parent2 = params.fetch(:parent2, \"unknown\")\n",
    "    @F2_wild = params.fetch(:F2_wild, \"000\")\n",
    "    @F2_P1 = params.fetch(:F2_P1, \"000\")\n",
    "    @F2_P2 = params.fetch(:F2_P2, \"000\")\n",
    "    @F2_P1P2 = params.fetch(:F2_P1P2, \"000\")\n",
    "       \n",
    "  end\n",
    "end\n"
   ]
  },
  {
   "cell_type": "markdown",
   "metadata": {},
   "source": [
    "## Problem 2:\n",
    "\n",
    "Process the information in cross_data.tsv and determine which genes are genetically-linked. To achieve this, you will have to do a Chi-square test on the F2 cross data. If you discover genes that are linked, this information should be added as a property of each of the genes (they are both linked to each other).\n",
    "\n"
   ]
  }
 ],
 "metadata": {
  "kernelspec": {
   "display_name": "Ruby 2.5.1",
   "language": "ruby",
   "name": "ruby"
  },
  "language_info": {
   "file_extension": ".rb",
   "mimetype": "application/x-ruby",
   "name": "ruby",
   "version": "2.5.1"
  }
 },
 "nbformat": 4,
 "nbformat_minor": 2
}
